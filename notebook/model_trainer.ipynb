{
 "cells": [
  {
   "cell_type": "code",
   "execution_count": 2,
   "id": "9122bd03",
   "metadata": {},
   "outputs": [],
   "source": [
    "# Import Libraries\n",
    "\n",
    "import pandas as pd\n",
    "import matplotlib.pyplot as plt\n",
    "import seaborn as sns\n",
    "\n",
    "\n",
    "# Preprocessing Libraries\n",
    "from sklearn.model_selection import train_test_split\n",
    "from sklearn.impute import SimpleImputer\n",
    "from sklearn.preprocessing import StandardScaler, LabelEncoder\n",
    "from sklearn.pipeline import Pipeline\n",
    "from sklearn.metrics import mean_absolute_error, mean_squared_error, r2_score\n",
    "\n",
    "\n",
    "# Models\n",
    "from sklearn.linear_model import LinearRegression, Ridge\n",
    "from sklearn.neighbors import KNeighborsRegressor\n",
    "from sklearn.svm import SVR\n",
    "from sklearn.tree import DecisionTreeRegressor\n",
    "from sklearn.ensemble import RandomForestRegressor, GradientBoostingRegressor, AdaBoostRegressor\n",
    "from xgboost import XGBRegressor"
   ]
  },
  {
   "cell_type": "code",
   "execution_count": 3,
   "id": "da23a4dc",
   "metadata": {},
   "outputs": [
    {
     "data": {
      "application/vnd.microsoft.datawrangler.viewer.v0+json": {
       "columns": [
        {
         "name": "index",
         "rawType": "int64",
         "type": "integer"
        },
        {
         "name": "Rank",
         "rawType": "int64",
         "type": "integer"
        },
        {
         "name": "Name",
         "rawType": "object",
         "type": "string"
        },
        {
         "name": "Platform",
         "rawType": "object",
         "type": "string"
        },
        {
         "name": "Year",
         "rawType": "float64",
         "type": "float"
        },
        {
         "name": "Genre",
         "rawType": "object",
         "type": "string"
        },
        {
         "name": "Publisher",
         "rawType": "object",
         "type": "string"
        },
        {
         "name": "NA_Sales",
         "rawType": "float64",
         "type": "float"
        },
        {
         "name": "EU_Sales",
         "rawType": "float64",
         "type": "float"
        },
        {
         "name": "JP_Sales",
         "rawType": "float64",
         "type": "float"
        },
        {
         "name": "Other_Sales",
         "rawType": "float64",
         "type": "float"
        },
        {
         "name": "Global_Sales",
         "rawType": "float64",
         "type": "float"
        }
       ],
       "conversionMethod": "pd.DataFrame",
       "ref": "78e5f5d9-dba0-4ff6-bed4-a7feea36c129",
       "rows": [
        [
         "0",
         "1",
         "Wii Sports",
         "Wii",
         "2006.0",
         "Sports",
         "Nintendo",
         "41.49",
         "29.02",
         "3.77",
         "8.46",
         "82.74"
        ],
        [
         "1",
         "2",
         "Super Mario Bros.",
         "Others",
         "1985.0",
         "Platform",
         "Nintendo",
         "29.08",
         "3.58",
         "6.81",
         "0.77",
         "40.24"
        ],
        [
         "2",
         "3",
         "Mario Kart Wii",
         "Wii",
         "2008.0",
         "Racing",
         "Nintendo",
         "15.85",
         "12.88",
         "3.79",
         "3.31",
         "35.82"
        ],
        [
         "3",
         "4",
         "Wii Sports Resort",
         "Wii",
         "2009.0",
         "Sports",
         "Nintendo",
         "15.75",
         "11.01",
         "3.28",
         "2.96",
         "33.0"
        ],
        [
         "4",
         "5",
         "Pokemon Red/Pokemon Blue",
         "Others",
         "1996.0",
         "Role-Playing",
         "Nintendo",
         "11.27",
         "8.89",
         "10.22",
         "1.0",
         "31.37"
        ]
       ],
       "shape": {
        "columns": 11,
        "rows": 5
       }
      },
      "text/html": [
       "<div>\n",
       "<style scoped>\n",
       "    .dataframe tbody tr th:only-of-type {\n",
       "        vertical-align: middle;\n",
       "    }\n",
       "\n",
       "    .dataframe tbody tr th {\n",
       "        vertical-align: top;\n",
       "    }\n",
       "\n",
       "    .dataframe thead th {\n",
       "        text-align: right;\n",
       "    }\n",
       "</style>\n",
       "<table border=\"1\" class=\"dataframe\">\n",
       "  <thead>\n",
       "    <tr style=\"text-align: right;\">\n",
       "      <th></th>\n",
       "      <th>Rank</th>\n",
       "      <th>Name</th>\n",
       "      <th>Platform</th>\n",
       "      <th>Year</th>\n",
       "      <th>Genre</th>\n",
       "      <th>Publisher</th>\n",
       "      <th>NA_Sales</th>\n",
       "      <th>EU_Sales</th>\n",
       "      <th>JP_Sales</th>\n",
       "      <th>Other_Sales</th>\n",
       "      <th>Global_Sales</th>\n",
       "    </tr>\n",
       "  </thead>\n",
       "  <tbody>\n",
       "    <tr>\n",
       "      <th>0</th>\n",
       "      <td>1</td>\n",
       "      <td>Wii Sports</td>\n",
       "      <td>Wii</td>\n",
       "      <td>2006.0</td>\n",
       "      <td>Sports</td>\n",
       "      <td>Nintendo</td>\n",
       "      <td>41.49</td>\n",
       "      <td>29.02</td>\n",
       "      <td>3.77</td>\n",
       "      <td>8.46</td>\n",
       "      <td>82.74</td>\n",
       "    </tr>\n",
       "    <tr>\n",
       "      <th>1</th>\n",
       "      <td>2</td>\n",
       "      <td>Super Mario Bros.</td>\n",
       "      <td>Others</td>\n",
       "      <td>1985.0</td>\n",
       "      <td>Platform</td>\n",
       "      <td>Nintendo</td>\n",
       "      <td>29.08</td>\n",
       "      <td>3.58</td>\n",
       "      <td>6.81</td>\n",
       "      <td>0.77</td>\n",
       "      <td>40.24</td>\n",
       "    </tr>\n",
       "    <tr>\n",
       "      <th>2</th>\n",
       "      <td>3</td>\n",
       "      <td>Mario Kart Wii</td>\n",
       "      <td>Wii</td>\n",
       "      <td>2008.0</td>\n",
       "      <td>Racing</td>\n",
       "      <td>Nintendo</td>\n",
       "      <td>15.85</td>\n",
       "      <td>12.88</td>\n",
       "      <td>3.79</td>\n",
       "      <td>3.31</td>\n",
       "      <td>35.82</td>\n",
       "    </tr>\n",
       "    <tr>\n",
       "      <th>3</th>\n",
       "      <td>4</td>\n",
       "      <td>Wii Sports Resort</td>\n",
       "      <td>Wii</td>\n",
       "      <td>2009.0</td>\n",
       "      <td>Sports</td>\n",
       "      <td>Nintendo</td>\n",
       "      <td>15.75</td>\n",
       "      <td>11.01</td>\n",
       "      <td>3.28</td>\n",
       "      <td>2.96</td>\n",
       "      <td>33.00</td>\n",
       "    </tr>\n",
       "    <tr>\n",
       "      <th>4</th>\n",
       "      <td>5</td>\n",
       "      <td>Pokemon Red/Pokemon Blue</td>\n",
       "      <td>Others</td>\n",
       "      <td>1996.0</td>\n",
       "      <td>Role-Playing</td>\n",
       "      <td>Nintendo</td>\n",
       "      <td>11.27</td>\n",
       "      <td>8.89</td>\n",
       "      <td>10.22</td>\n",
       "      <td>1.00</td>\n",
       "      <td>31.37</td>\n",
       "    </tr>\n",
       "  </tbody>\n",
       "</table>\n",
       "</div>"
      ],
      "text/plain": [
       "   Rank                      Name Platform    Year         Genre Publisher  \\\n",
       "0     1                Wii Sports      Wii  2006.0        Sports  Nintendo   \n",
       "1     2         Super Mario Bros.   Others  1985.0      Platform  Nintendo   \n",
       "2     3            Mario Kart Wii      Wii  2008.0        Racing  Nintendo   \n",
       "3     4         Wii Sports Resort      Wii  2009.0        Sports  Nintendo   \n",
       "4     5  Pokemon Red/Pokemon Blue   Others  1996.0  Role-Playing  Nintendo   \n",
       "\n",
       "   NA_Sales  EU_Sales  JP_Sales  Other_Sales  Global_Sales  \n",
       "0     41.49     29.02      3.77         8.46         82.74  \n",
       "1     29.08      3.58      6.81         0.77         40.24  \n",
       "2     15.85     12.88      3.79         3.31         35.82  \n",
       "3     15.75     11.01      3.28         2.96         33.00  \n",
       "4     11.27      8.89     10.22         1.00         31.37  "
      ]
     },
     "execution_count": 3,
     "metadata": {},
     "output_type": "execute_result"
    }
   ],
   "source": [
    "# Load Data Set\n",
    "df = pd.read_csv(\"data/Video Games Sales(Clean).csv\")\n",
    "df.head()"
   ]
  },
  {
   "cell_type": "markdown",
   "id": "419b29c9",
   "metadata": {},
   "source": [
    "### Steps:\n",
    "1. Seperate X and y features\n",
    "2. Label Encoder\n",
    "3. Built Pipeline(fro Imputer and Scalling)\n",
    "4. Train Test Split\n",
    "5. Initiate Pipeline\n",
    "6. Train Model\n",
    "7. Test the Model\n",
    "8. Evaluate the Model "
   ]
  },
  {
   "cell_type": "code",
   "execution_count": 4,
   "id": "d7a068f2",
   "metadata": {},
   "outputs": [],
   "source": [
    "X = df.drop(columns=['Rank','Name', 'Global_Sales'])\n",
    "y = df['Global_Sales']"
   ]
  },
  {
   "cell_type": "code",
   "execution_count": 5,
   "id": "acd67198",
   "metadata": {},
   "outputs": [
    {
     "data": {
      "text/plain": [
       "['Platform', 'Genre', 'Publisher']"
      ]
     },
     "execution_count": 5,
     "metadata": {},
     "output_type": "execute_result"
    }
   ],
   "source": [
    "# Get Categorical Columns\n",
    "categorical_columns = [var for var in X.columns if X[var].dtype == 'O']\n",
    "categorical_columns"
   ]
  },
  {
   "cell_type": "code",
   "execution_count": 6,
   "id": "3a3b4bcd",
   "metadata": {},
   "outputs": [],
   "source": [
    "# Apply Label Encoder\n",
    "\n",
    "le = LabelEncoder()\n",
    "\n",
    "for var in categorical_columns:\n",
    "    X[var] = le.fit_transform(X[var])"
   ]
  },
  {
   "cell_type": "code",
   "execution_count": 7,
   "id": "08bfda57",
   "metadata": {},
   "outputs": [
    {
     "data": {
      "application/vnd.microsoft.datawrangler.viewer.v0+json": {
       "columns": [
        {
         "name": "index",
         "rawType": "int64",
         "type": "integer"
        },
        {
         "name": "Platform",
         "rawType": "int64",
         "type": "integer"
        },
        {
         "name": "Year",
         "rawType": "float64",
         "type": "float"
        },
        {
         "name": "Genre",
         "rawType": "int64",
         "type": "integer"
        },
        {
         "name": "Publisher",
         "rawType": "int64",
         "type": "integer"
        },
        {
         "name": "NA_Sales",
         "rawType": "float64",
         "type": "float"
        },
        {
         "name": "EU_Sales",
         "rawType": "float64",
         "type": "float"
        },
        {
         "name": "JP_Sales",
         "rawType": "float64",
         "type": "float"
        },
        {
         "name": "Other_Sales",
         "rawType": "float64",
         "type": "float"
        }
       ],
       "conversionMethod": "pd.DataFrame",
       "ref": "de23d93c-5545-41e9-9cef-362a7924ff68",
       "rows": [
        [
         "0",
         "16",
         "2006.0",
         "10",
         "10",
         "41.49",
         "29.02",
         "3.77",
         "8.46"
        ],
        [
         "1",
         "6",
         "1985.0",
         "4",
         "10",
         "29.08",
         "3.58",
         "6.81",
         "0.77"
        ],
        [
         "2",
         "16",
         "2008.0",
         "6",
         "10",
         "15.85",
         "12.88",
         "3.79",
         "3.31"
        ],
        [
         "3",
         "16",
         "2009.0",
         "10",
         "10",
         "15.75",
         "11.01",
         "3.28",
         "2.96"
        ],
        [
         "4",
         "6",
         "1996.0",
         "7",
         "10",
         "11.27",
         "8.89",
         "10.22",
         "1.0"
        ]
       ],
       "shape": {
        "columns": 8,
        "rows": 5
       }
      },
      "text/html": [
       "<div>\n",
       "<style scoped>\n",
       "    .dataframe tbody tr th:only-of-type {\n",
       "        vertical-align: middle;\n",
       "    }\n",
       "\n",
       "    .dataframe tbody tr th {\n",
       "        vertical-align: top;\n",
       "    }\n",
       "\n",
       "    .dataframe thead th {\n",
       "        text-align: right;\n",
       "    }\n",
       "</style>\n",
       "<table border=\"1\" class=\"dataframe\">\n",
       "  <thead>\n",
       "    <tr style=\"text-align: right;\">\n",
       "      <th></th>\n",
       "      <th>Platform</th>\n",
       "      <th>Year</th>\n",
       "      <th>Genre</th>\n",
       "      <th>Publisher</th>\n",
       "      <th>NA_Sales</th>\n",
       "      <th>EU_Sales</th>\n",
       "      <th>JP_Sales</th>\n",
       "      <th>Other_Sales</th>\n",
       "    </tr>\n",
       "  </thead>\n",
       "  <tbody>\n",
       "    <tr>\n",
       "      <th>0</th>\n",
       "      <td>16</td>\n",
       "      <td>2006.0</td>\n",
       "      <td>10</td>\n",
       "      <td>10</td>\n",
       "      <td>41.49</td>\n",
       "      <td>29.02</td>\n",
       "      <td>3.77</td>\n",
       "      <td>8.46</td>\n",
       "    </tr>\n",
       "    <tr>\n",
       "      <th>1</th>\n",
       "      <td>6</td>\n",
       "      <td>1985.0</td>\n",
       "      <td>4</td>\n",
       "      <td>10</td>\n",
       "      <td>29.08</td>\n",
       "      <td>3.58</td>\n",
       "      <td>6.81</td>\n",
       "      <td>0.77</td>\n",
       "    </tr>\n",
       "    <tr>\n",
       "      <th>2</th>\n",
       "      <td>16</td>\n",
       "      <td>2008.0</td>\n",
       "      <td>6</td>\n",
       "      <td>10</td>\n",
       "      <td>15.85</td>\n",
       "      <td>12.88</td>\n",
       "      <td>3.79</td>\n",
       "      <td>3.31</td>\n",
       "    </tr>\n",
       "    <tr>\n",
       "      <th>3</th>\n",
       "      <td>16</td>\n",
       "      <td>2009.0</td>\n",
       "      <td>10</td>\n",
       "      <td>10</td>\n",
       "      <td>15.75</td>\n",
       "      <td>11.01</td>\n",
       "      <td>3.28</td>\n",
       "      <td>2.96</td>\n",
       "    </tr>\n",
       "    <tr>\n",
       "      <th>4</th>\n",
       "      <td>6</td>\n",
       "      <td>1996.0</td>\n",
       "      <td>7</td>\n",
       "      <td>10</td>\n",
       "      <td>11.27</td>\n",
       "      <td>8.89</td>\n",
       "      <td>10.22</td>\n",
       "      <td>1.00</td>\n",
       "    </tr>\n",
       "  </tbody>\n",
       "</table>\n",
       "</div>"
      ],
      "text/plain": [
       "   Platform    Year  Genre  Publisher  NA_Sales  EU_Sales  JP_Sales  \\\n",
       "0        16  2006.0     10         10     41.49     29.02      3.77   \n",
       "1         6  1985.0      4         10     29.08      3.58      6.81   \n",
       "2        16  2008.0      6         10     15.85     12.88      3.79   \n",
       "3        16  2009.0     10         10     15.75     11.01      3.28   \n",
       "4         6  1996.0      7         10     11.27      8.89     10.22   \n",
       "\n",
       "   Other_Sales  \n",
       "0         8.46  \n",
       "1         0.77  \n",
       "2         3.31  \n",
       "3         2.96  \n",
       "4         1.00  "
      ]
     },
     "execution_count": 7,
     "metadata": {},
     "output_type": "execute_result"
    }
   ],
   "source": [
    "X.head()"
   ]
  },
  {
   "cell_type": "code",
   "execution_count": 8,
   "id": "66741668",
   "metadata": {},
   "outputs": [],
   "source": [
    "# Built Pipeline\n",
    "\n",
    "pipeline = Pipeline(\n",
    "    [\n",
    "        ('imputer', SimpleImputer(strategy='median')),\n",
    "        ('scaler', StandardScaler())\n",
    "    ]\n",
    ")"
   ]
  },
  {
   "cell_type": "code",
   "execution_count": 9,
   "id": "123201af",
   "metadata": {},
   "outputs": [],
   "source": [
    "# Train Test Split\n",
    "\n",
    "X_train, X_test, y_train, y_test = train_test_split(X, y, test_size=0.2, random_state=42)"
   ]
  },
  {
   "cell_type": "code",
   "execution_count": 10,
   "id": "d8cb63c3",
   "metadata": {},
   "outputs": [
    {
     "data": {
      "text/plain": [
       "((13278, 8), (3320, 8))"
      ]
     },
     "execution_count": 10,
     "metadata": {},
     "output_type": "execute_result"
    }
   ],
   "source": [
    "X_train.shape, X_test.shape"
   ]
  },
  {
   "cell_type": "code",
   "execution_count": 11,
   "id": "349d3dc9",
   "metadata": {},
   "outputs": [],
   "source": [
    "# Create Models with default parameters\n",
    "\n",
    "models = {\n",
    "    'Linear Regression': LinearRegression(),\n",
    "    'Ridge': Ridge(),\n",
    "    'KNN Regressor': KNeighborsRegressor(),\n",
    "    'Support Vector Regressor': SVR(),\n",
    "    'Decision Tree': DecisionTreeRegressor(),\n",
    "    'Random Forest': RandomForestRegressor(),\n",
    "    'Ada-Boost Regressor': AdaBoostRegressor(),\n",
    "    'Gradient Boosting': GradientBoostingRegressor(),\n",
    "    'XGB Regressor': XGBRegressor()\n",
    "}"
   ]
  },
  {
   "cell_type": "code",
   "execution_count": 12,
   "id": "e14c6838",
   "metadata": {},
   "outputs": [],
   "source": [
    "# Apply Pipeline\n",
    "\n",
    "X_train = pipeline.fit_transform(X_train)\n",
    "X_test = pipeline.transform(X_test)"
   ]
  },
  {
   "cell_type": "code",
   "execution_count": 13,
   "id": "ab5fc392",
   "metadata": {},
   "outputs": [],
   "source": [
    "r2_matrix = []\n",
    "\n",
    "def evaluate_model(model ,y_pred_train, y_pred_test, y_train, y_test):\n",
    "    \n",
    "    # Results on Train Data Set\n",
    "    mae_train = round(mean_absolute_error(y_train, y_pred_train), 4)\n",
    "    mse_train = round(mean_squared_error(y_train, y_pred_train), 4)\n",
    "    r2_train = round(r2_score(y_train, y_pred_train), 4)\n",
    "    \n",
    "    \n",
    "    # Testing Results    \n",
    "    mae_test = round(mean_absolute_error(y_test, y_pred_test), 4)\n",
    "    mse_test = round(mean_squared_error(y_test, y_pred_test), 4)\n",
    "    r2_test = round(r2_score(y_test, y_pred_test), 4)\n",
    "    \n",
    "    r2 = {\n",
    "        'Model': model,\n",
    "        'R2-Score(Train Data)': r2_train,\n",
    "        'R2-Score(Test Data)': r2_test\n",
    "    }\n",
    "    r2_matrix.append(r2)\n",
    "    \n",
    "    print(f\"\"\"{\"-\"*50}\\n{model}\\n{\"-\"*50}\\n     Results on Traing Data: \n",
    "        MAE: {mae_train}\n",
    "        MSE: {mse_train}\n",
    "        R2-Score: {r2_train}\\n\\n     Results on Testing Data:\n",
    "        MAE: {mae_test}\n",
    "        MSE: {mse_test}\n",
    "        R2-Score: {r2_test}\"\"\")"
   ]
  },
  {
   "cell_type": "code",
   "execution_count": 14,
   "id": "2f02dc8b",
   "metadata": {},
   "outputs": [
    {
     "name": "stdout",
     "output_type": "stream",
     "text": [
      "--------------------------------------------------\n",
      "Linear Regression\n",
      "--------------------------------------------------\n",
      "     Results on Traing Data: \n",
      "        MAE: 0.003\n",
      "        MSE: 0.0\n",
      "        R2-Score: 1.0\n",
      "\n",
      "     Results on Testing Data:\n",
      "        MAE: 0.003\n",
      "        MSE: 0.0\n",
      "        R2-Score: 1.0\n",
      "--------------------------------------------------\n",
      "Ridge\n",
      "--------------------------------------------------\n",
      "     Results on Traing Data: \n",
      "        MAE: 0.003\n",
      "        MSE: 0.0\n",
      "        R2-Score: 1.0\n",
      "\n",
      "     Results on Testing Data:\n",
      "        MAE: 0.003\n",
      "        MSE: 0.0\n",
      "        R2-Score: 1.0\n",
      "--------------------------------------------------\n",
      "KNN Regressor\n",
      "--------------------------------------------------\n",
      "     Results on Traing Data: \n",
      "        MAE: 0.0668\n",
      "        MSE: 0.0464\n",
      "        R2-Score: 0.9765\n",
      "\n",
      "     Results on Testing Data:\n",
      "        MAE: 0.101\n",
      "        MSE: 0.9529\n",
      "        R2-Score: 0.7732\n",
      "--------------------------------------------------\n",
      "Support Vector Regressor\n",
      "--------------------------------------------------\n",
      "     Results on Traing Data: \n",
      "        MAE: 0.08\n",
      "        MSE: 0.6459\n",
      "        R2-Score: 0.6724\n",
      "\n",
      "     Results on Testing Data:\n",
      "        MAE: 0.1188\n",
      "        MSE: 2.6352\n",
      "        R2-Score: 0.3728\n",
      "--------------------------------------------------\n",
      "Decision Tree\n",
      "--------------------------------------------------\n",
      "     Results on Traing Data: \n",
      "        MAE: 0.0001\n",
      "        MSE: 0.0\n",
      "        R2-Score: 1.0\n",
      "\n",
      "     Results on Testing Data:\n",
      "        MAE: 0.0614\n",
      "        MSE: 0.6366\n",
      "        R2-Score: 0.8485\n",
      "--------------------------------------------------\n",
      "Random Forest\n",
      "--------------------------------------------------\n",
      "     Results on Traing Data: \n",
      "        MAE: 0.0102\n",
      "        MSE: 0.0079\n",
      "        R2-Score: 0.996\n",
      "\n",
      "     Results on Testing Data:\n",
      "        MAE: 0.0432\n",
      "        MSE: 0.7658\n",
      "        R2-Score: 0.8177\n",
      "--------------------------------------------------\n",
      "Ada-Boost Regressor\n",
      "--------------------------------------------------\n",
      "     Results on Traing Data: \n",
      "        MAE: 1.05\n",
      "        MSE: 1.1864\n",
      "        R2-Score: 0.3983\n",
      "\n",
      "     Results on Testing Data:\n",
      "        MAE: 1.07\n",
      "        MSE: 1.8832\n",
      "        R2-Score: 0.5518\n",
      "--------------------------------------------------\n",
      "Gradient Boosting\n",
      "--------------------------------------------------\n",
      "     Results on Traing Data: \n",
      "        MAE: 0.024\n",
      "        MSE: 0.0025\n",
      "        R2-Score: 0.9987\n",
      "\n",
      "     Results on Testing Data:\n",
      "        MAE: 0.0438\n",
      "        MSE: 0.5932\n",
      "        R2-Score: 0.8588\n",
      "--------------------------------------------------\n",
      "XGB Regressor\n",
      "--------------------------------------------------\n",
      "     Results on Traing Data: \n",
      "        MAE: 0.0083\n",
      "        MSE: 0.0002\n",
      "        R2-Score: 0.9999\n",
      "\n",
      "     Results on Testing Data:\n",
      "        MAE: 0.052\n",
      "        MSE: 0.8505\n",
      "        R2-Score: 0.7976\n"
     ]
    }
   ],
   "source": [
    "# Apply Model\n",
    "\n",
    "\n",
    "for key, value in models.items():\n",
    "    \n",
    "    model = value\n",
    "    model.fit(X_train, y_train)\n",
    "    \n",
    "    y_pred_train = model.predict(X_train)\n",
    "    y_pred_test = model.predict(X_test)\n",
    "    \n",
    "    evaluate_model(key, y_pred_train, y_pred_test, y_train, y_test)\n",
    "    "
   ]
  },
  {
   "cell_type": "code",
   "execution_count": 17,
   "id": "53d7a79a",
   "metadata": {},
   "outputs": [
    {
     "data": {
      "application/vnd.microsoft.datawrangler.viewer.v0+json": {
       "columns": [
        {
         "name": "index",
         "rawType": "int64",
         "type": "integer"
        },
        {
         "name": "Model",
         "rawType": "object",
         "type": "string"
        },
        {
         "name": "R2-Score(Train Data)",
         "rawType": "float64",
         "type": "float"
        },
        {
         "name": "R2-Score(Test Data)",
         "rawType": "float64",
         "type": "float"
        }
       ],
       "conversionMethod": "pd.DataFrame",
       "ref": "86ead327-d605-4721-be8d-2a4a9c361aa7",
       "rows": [
        [
         "0",
         "Linear Regression",
         "1.0",
         "1.0"
        ],
        [
         "1",
         "Ridge",
         "1.0",
         "1.0"
        ],
        [
         "7",
         "Gradient Boosting",
         "0.9987",
         "0.8588"
        ],
        [
         "4",
         "Decision Tree",
         "1.0",
         "0.8485"
        ],
        [
         "5",
         "Random Forest",
         "0.996",
         "0.8177"
        ],
        [
         "8",
         "XGB Regressor",
         "0.9999",
         "0.7976"
        ],
        [
         "2",
         "KNN Regressor",
         "0.9765",
         "0.7732"
        ],
        [
         "6",
         "Ada-Boost Regressor",
         "0.3983",
         "0.5518"
        ],
        [
         "3",
         "Support Vector Regressor",
         "0.6724",
         "0.3728"
        ]
       ],
       "shape": {
        "columns": 3,
        "rows": 9
       }
      },
      "text/html": [
       "<div>\n",
       "<style scoped>\n",
       "    .dataframe tbody tr th:only-of-type {\n",
       "        vertical-align: middle;\n",
       "    }\n",
       "\n",
       "    .dataframe tbody tr th {\n",
       "        vertical-align: top;\n",
       "    }\n",
       "\n",
       "    .dataframe thead th {\n",
       "        text-align: right;\n",
       "    }\n",
       "</style>\n",
       "<table border=\"1\" class=\"dataframe\">\n",
       "  <thead>\n",
       "    <tr style=\"text-align: right;\">\n",
       "      <th></th>\n",
       "      <th>Model</th>\n",
       "      <th>R2-Score(Train Data)</th>\n",
       "      <th>R2-Score(Test Data)</th>\n",
       "    </tr>\n",
       "  </thead>\n",
       "  <tbody>\n",
       "    <tr>\n",
       "      <th>0</th>\n",
       "      <td>Linear Regression</td>\n",
       "      <td>1.0000</td>\n",
       "      <td>1.0000</td>\n",
       "    </tr>\n",
       "    <tr>\n",
       "      <th>1</th>\n",
       "      <td>Ridge</td>\n",
       "      <td>1.0000</td>\n",
       "      <td>1.0000</td>\n",
       "    </tr>\n",
       "    <tr>\n",
       "      <th>7</th>\n",
       "      <td>Gradient Boosting</td>\n",
       "      <td>0.9987</td>\n",
       "      <td>0.8588</td>\n",
       "    </tr>\n",
       "    <tr>\n",
       "      <th>4</th>\n",
       "      <td>Decision Tree</td>\n",
       "      <td>1.0000</td>\n",
       "      <td>0.8485</td>\n",
       "    </tr>\n",
       "    <tr>\n",
       "      <th>5</th>\n",
       "      <td>Random Forest</td>\n",
       "      <td>0.9960</td>\n",
       "      <td>0.8177</td>\n",
       "    </tr>\n",
       "    <tr>\n",
       "      <th>8</th>\n",
       "      <td>XGB Regressor</td>\n",
       "      <td>0.9999</td>\n",
       "      <td>0.7976</td>\n",
       "    </tr>\n",
       "    <tr>\n",
       "      <th>2</th>\n",
       "      <td>KNN Regressor</td>\n",
       "      <td>0.9765</td>\n",
       "      <td>0.7732</td>\n",
       "    </tr>\n",
       "    <tr>\n",
       "      <th>6</th>\n",
       "      <td>Ada-Boost Regressor</td>\n",
       "      <td>0.3983</td>\n",
       "      <td>0.5518</td>\n",
       "    </tr>\n",
       "    <tr>\n",
       "      <th>3</th>\n",
       "      <td>Support Vector Regressor</td>\n",
       "      <td>0.6724</td>\n",
       "      <td>0.3728</td>\n",
       "    </tr>\n",
       "  </tbody>\n",
       "</table>\n",
       "</div>"
      ],
      "text/plain": [
       "                      Model  R2-Score(Train Data)  R2-Score(Test Data)\n",
       "0         Linear Regression                1.0000               1.0000\n",
       "1                     Ridge                1.0000               1.0000\n",
       "7         Gradient Boosting                0.9987               0.8588\n",
       "4             Decision Tree                1.0000               0.8485\n",
       "5             Random Forest                0.9960               0.8177\n",
       "8             XGB Regressor                0.9999               0.7976\n",
       "2             KNN Regressor                0.9765               0.7732\n",
       "6       Ada-Boost Regressor                0.3983               0.5518\n",
       "3  Support Vector Regressor                0.6724               0.3728"
      ]
     },
     "execution_count": 17,
     "metadata": {},
     "output_type": "execute_result"
    }
   ],
   "source": [
    "r2_results = pd.DataFrame(r2_matrix).sort_values(by='R2-Score(Test Data)', ascending=False)\n",
    "r2_results"
   ]
  },
  {
   "cell_type": "markdown",
   "id": "38226a51",
   "metadata": {},
   "source": [
    "#### **Observation**\n",
    "- Linear Regression and Ridge is best model, there R2 score is 1.0 for both Train and Test data."
   ]
  },
  {
   "cell_type": "code",
   "execution_count": 18,
   "id": "20d99eee",
   "metadata": {},
   "outputs": [],
   "source": [
    "lr = LinearRegression()\n",
    "\n",
    "lr.fit(X_train, y_train)\n",
    "\n",
    "y_pred = lr.predict(X_test)"
   ]
  },
  {
   "cell_type": "code",
   "execution_count": 19,
   "id": "d67a92b8",
   "metadata": {},
   "outputs": [
    {
     "data": {
      "image/png": "[encoded data removed]",
      "text/plain": [
       "<Figure size 640x480 with 1 Axes>"
      ]
     },
     "metadata": {},
     "output_type": "display_data"
    }
   ],
   "source": [
    "sns.regplot(x=y_test, y=y_pred, line_kws={'color': 'red'})\n",
    "plt.xlabel('Global Sales')\n",
    "plt.ylabel('Predicted Global Sales')\n",
    "plt.title('Model Results of Linear Regression')\n",
    "plt.show()"
   ]
  },
  {
   "cell_type": "code",
   "execution_count": null,
   "id": "31b45097",
   "metadata": {},
   "outputs": [],
   "source": []
  }
 ],
 "metadata": {
  "kernelspec": {
   "display_name": "EDA",
   "language": "python",
   "name": "python3"
  },
  "language_info": {
   "codemirror_mode": {
    "name": "ipython",
    "version": 3
   },
   "file_extension": ".py",
   "mimetype": "text/x-python",
   "name": "python",
   "nbconvert_exporter": "python",
   "pygments_lexer": "ipython3",
   "version": "3.9.21"
  }
 },
 "nbformat": 4,
 "nbformat_minor": 5
}
